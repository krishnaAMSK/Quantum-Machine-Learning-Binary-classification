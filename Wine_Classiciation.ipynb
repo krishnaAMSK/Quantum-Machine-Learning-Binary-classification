{
  "nbformat": 4,
  "nbformat_minor": 0,
  "metadata": {
    "colab": {
      "name": "Wine-Classiciation.ipynb",
      "provenance": [],
      "collapsed_sections": [],
      "toc_visible": true,
      "authorship_tag": "ABX9TyN+iOr84qQDUYwv650dfUfC",
      "include_colab_link": true
    },
    "kernelspec": {
      "display_name": "Python 3",
      "name": "python3"
    },
    "language_info": {
      "name": "python"
    }
  },
  "cells": [
    {
      "cell_type": "markdown",
      "metadata": {
        "id": "view-in-github",
        "colab_type": "text"
      },
      "source": [
        "<a href=\"https://colab.research.google.com/github/Snafkin547/Quantum-ML-classification/blob/main/Wine_Classiciation.ipynb\" target=\"_parent\"><img src=\"https://colab.research.google.com/assets/colab-badge.svg\" alt=\"Open In Colab\"/></a>"
      ]
    },
    {
      "cell_type": "markdown",
      "metadata": {
        "id": "6Y18uk2IA1hN"
      },
      "source": [
        "# Package and Data Ingestion"
      ]
    },
    {
      "cell_type": "code",
      "metadata": {
        "colab": {
          "base_uri": "https://localhost:8080/"
        },
        "id": "mLmIZbScK6hC",
        "outputId": "e3b9ac95-bd92-4029-8d2f-5c04369d5c5c"
      },
      "source": [
        "from google.colab import drive\n",
        "import os\n",
        "import pandas as pd\n",
        "\n",
        "#Google Drive mounting to Google Colab\n",
        "drive.mount('/content/gdrive', force_remount=True)\n",
        "#Change the working directory\n",
        "%cd /content/gdrive/MyDrive/QML/Wine-Classification\n",
        "#Check if the directory was properly changed\n",
        "%pwd\n",
        "\n",
        "data=pd.read_csv('wine.csv')"
      ],
      "execution_count": 2,
      "outputs": [
        {
          "output_type": "stream",
          "name": "stdout",
          "text": [
            "Mounted at /content/gdrive\n",
            "/content/gdrive/MyDrive/QML/Wine-Classification\n"
          ]
        }
      ]
    },
    {
      "cell_type": "code",
      "metadata": {
        "id": "1yweG678LYsi"
      },
      "source": [
        "x=data.iloc[:,0:len(data.columns)-1]\n",
        "y=data.iloc[:,-1]"
      ],
      "execution_count": 3,
      "outputs": []
    },
    {
      "cell_type": "markdown",
      "metadata": {
        "id": "fAVsSmRtA5dW"
      },
      "source": [
        "### Train Test split"
      ]
    },
    {
      "cell_type": "code",
      "metadata": {
        "colab": {
          "base_uri": "https://localhost:8080/"
        },
        "id": "MX3ngwvAw4Pe",
        "outputId": "10def15d-a9d8-4e60-e261-293c53c60287"
      },
      "source": [
        "from sklearn.model_selection import train_test_split\n",
        "x_train, x_test, y_train, y_test=train_test_split(x, y, test_size=0.2, random_state=42)\n",
        "print(\"Training data has {} features and {} rows\".format(x_train.shape[1], x_train.shape[0]))\n",
        "print(\"Test data has {} features and {} rows\".format(x_test.shape[1], x_test.shape[0]))"
      ],
      "execution_count": 4,
      "outputs": [
        {
          "output_type": "stream",
          "name": "stdout",
          "text": [
            "Training data has 11 features and 1279 rows\n",
            "Test data has 11 features and 320 rows\n"
          ]
        }
      ]
    },
    {
      "cell_type": "code",
      "metadata": {
        "id": "SKugJH6TUE0x"
      },
      "source": [
        "x_train.to_pickle('./x_train.npy')\n",
        "x_test.to_pickle('./x_test.npy')\n",
        "y_train.to_pickle('./y_train.npy')\n",
        "y_test.to_pickle('./y_test.npy')"
      ],
      "execution_count": 5,
      "outputs": []
    },
    {
      "cell_type": "code",
      "metadata": {
        "id": "uq7XO2gob8SB"
      },
      "source": [
        "x_train= pd.read_pickle('./x_train.npy')\n",
        "x_test= pd.read_pickle('./x_test.npy')\n",
        "y_train= pd.read_pickle('./y_train.npy')\n",
        "y_test= pd.read_pickle('./y_test.npy')"
      ],
      "execution_count": 6,
      "outputs": []
    },
    {
      "cell_type": "markdown",
      "metadata": {
        "id": "bY8eHwl7A_t7"
      },
      "source": [
        "# Train the model and Predict"
      ]
    },
    {
      "cell_type": "code",
      "metadata": {
        "colab": {
          "base_uri": "https://localhost:8080/"
        },
        "id": "TjZGYAdNxQfx",
        "outputId": "7cfef063-5862-4591-fd1b-2de2970f7e44"
      },
      "source": [
        "from sklearn.ensemble import RandomForestClassifier as rfm\n",
        "from sklearn.metrics import accuracy_score\n",
        "\n",
        "clf=rfm(max_depth=2, random_state=0)\n",
        "clf.fit(x_train,y_train)\n",
        "y_hat=clf.predict(x_test)\n",
        "print(\"Model accuracy is {}%\".format(clf.score(x_test, y_test)*100))\n",
        "benchmark=clf.score(x_test, y_test)*100"
      ],
      "execution_count": 7,
      "outputs": [
        {
          "output_type": "stream",
          "name": "stdout",
          "text": [
            "Model accuracy is 72.5%\n"
          ]
        }
      ]
    },
    {
      "cell_type": "markdown",
      "metadata": {
        "id": "NSjomSZYBcCZ"
      },
      "source": [
        "# Identify The biggest contributing Features"
      ]
    },
    {
      "cell_type": "code",
      "metadata": {
        "colab": {
          "base_uri": "https://localhost:8080/",
          "height": 440
        },
        "id": "GRBnj3_F_HeR",
        "outputId": "02fd4bf6-1638-41c3-b360-f67c54e475bc"
      },
      "source": [
        "import sklearn\n",
        "import graphviz \n",
        "from sklearn.tree import export_graphviz\n",
        "dot_data = sklearn.tree.export_graphviz(clf.estimators_[0], out_file=None, \n",
        "                     feature_names=x.columns,  \n",
        "                      class_names=data.columns[-1], \n",
        "                      filled=True, rounded=True,  \n",
        "                      special_characters=True)  \n",
        "graph = graphviz.Source(dot_data)  \n",
        "graph "
      ],
      "execution_count": 8,
      "outputs": [
        {
          "output_type": "execute_result",
          "data": {
            "text/plain": [
              "<graphviz.files.Source at 0x7fa38f4c0e50>"
            ],
            "image/svg+xml": "<?xml version=\"1.0\" encoding=\"UTF-8\" standalone=\"no\"?>\n<!DOCTYPE svg PUBLIC \"-//W3C//DTD SVG 1.1//EN\"\n \"http://www.w3.org/Graphics/SVG/1.1/DTD/svg11.dtd\">\n<!-- Generated by graphviz version 2.40.1 (20161225.0304)\n -->\n<!-- Title: Tree Pages: 1 -->\n<svg width=\"566pt\" height=\"314pt\"\n viewBox=\"0.00 0.00 566.00 314.00\" xmlns=\"http://www.w3.org/2000/svg\" xmlns:xlink=\"http://www.w3.org/1999/xlink\">\n<g id=\"graph0\" class=\"graph\" transform=\"scale(1 1) rotate(0) translate(4 310)\">\n<title>Tree</title>\n<polygon fill=\"#ffffff\" stroke=\"transparent\" points=\"-4,4 -4,-310 562,-310 562,4 -4,4\"/>\n<!-- 0 -->\n<g id=\"node1\" class=\"node\">\n<title>0</title>\n<path fill=\"#e8f4fc\" stroke=\"#000000\" d=\"M330,-306C330,-306 222,-306 222,-306 216,-306 210,-300 210,-294 210,-294 210,-235 210,-235 210,-229 216,-223 222,-223 222,-223 330,-223 330,-223 336,-223 342,-229 342,-235 342,-235 342,-294 342,-294 342,-300 336,-306 330,-306\"/>\n<text text-anchor=\"start\" x=\"218.5\" y=\"-290.8\" font-family=\"Helvetica,sans-Serif\" font-size=\"14.00\" fill=\"#000000\">sulphates ≤ 0.625</text>\n<text text-anchor=\"start\" x=\"238\" y=\"-275.8\" font-family=\"Helvetica,sans-Serif\" font-size=\"14.00\" fill=\"#000000\">gini = 0.498</text>\n<text text-anchor=\"start\" x=\"228\" y=\"-260.8\" font-family=\"Helvetica,sans-Serif\" font-size=\"14.00\" fill=\"#000000\">samples = 789</text>\n<text text-anchor=\"start\" x=\"218\" y=\"-245.8\" font-family=\"Helvetica,sans-Serif\" font-size=\"14.00\" fill=\"#000000\">value = [600, 679]</text>\n<text text-anchor=\"start\" x=\"247\" y=\"-230.8\" font-family=\"Helvetica,sans-Serif\" font-size=\"14.00\" fill=\"#000000\">class = u</text>\n</g>\n<!-- 1 -->\n<g id=\"node2\" class=\"node\">\n<title>1</title>\n<path fill=\"#f4ccae\" stroke=\"#000000\" d=\"M262,-187C262,-187 128,-187 128,-187 122,-187 116,-181 116,-175 116,-175 116,-116 116,-116 116,-110 122,-104 128,-104 128,-104 262,-104 262,-104 268,-104 274,-110 274,-116 274,-116 274,-175 274,-175 274,-181 268,-187 262,-187\"/>\n<text text-anchor=\"start\" x=\"124\" y=\"-171.8\" font-family=\"Helvetica,sans-Serif\" font-size=\"14.00\" fill=\"#000000\">volatile acidity ≤ 0.375</text>\n<text text-anchor=\"start\" x=\"157\" y=\"-156.8\" font-family=\"Helvetica,sans-Serif\" font-size=\"14.00\" fill=\"#000000\">gini = 0.467</text>\n<text text-anchor=\"start\" x=\"147\" y=\"-141.8\" font-family=\"Helvetica,sans-Serif\" font-size=\"14.00\" fill=\"#000000\">samples = 412</text>\n<text text-anchor=\"start\" x=\"137\" y=\"-126.8\" font-family=\"Helvetica,sans-Serif\" font-size=\"14.00\" fill=\"#000000\">value = [413, 245]</text>\n<text text-anchor=\"start\" x=\"166\" y=\"-111.8\" font-family=\"Helvetica,sans-Serif\" font-size=\"14.00\" fill=\"#000000\">class = q</text>\n</g>\n<!-- 0&#45;&gt;1 -->\n<g id=\"edge1\" class=\"edge\">\n<title>0&#45;&gt;1</title>\n<path fill=\"none\" stroke=\"#000000\" d=\"M247.6701,-222.8796C241.7237,-214.1434 235.3914,-204.8404 229.255,-195.8253\"/>\n<polygon fill=\"#000000\" stroke=\"#000000\" points=\"231.9711,-193.5953 223.4508,-187.2981 226.1844,-197.5342 231.9711,-193.5953\"/>\n<text text-anchor=\"middle\" x=\"218.7843\" y=\"-208.1587\" font-family=\"Helvetica,sans-Serif\" font-size=\"14.00\" fill=\"#000000\">True</text>\n</g>\n<!-- 4 -->\n<g id=\"node5\" class=\"node\">\n<title>4</title>\n<path fill=\"#8ec7f0\" stroke=\"#000000\" d=\"M412,-187C412,-187 304,-187 304,-187 298,-187 292,-181 292,-175 292,-175 292,-116 292,-116 292,-110 298,-104 304,-104 304,-104 412,-104 412,-104 418,-104 424,-110 424,-116 424,-116 424,-175 424,-175 424,-181 418,-187 412,-187\"/>\n<text text-anchor=\"start\" x=\"312.5\" y=\"-171.8\" font-family=\"Helvetica,sans-Serif\" font-size=\"14.00\" fill=\"#000000\">alcohol ≤ 9.85</text>\n<text text-anchor=\"start\" x=\"320\" y=\"-156.8\" font-family=\"Helvetica,sans-Serif\" font-size=\"14.00\" fill=\"#000000\">gini = 0.421</text>\n<text text-anchor=\"start\" x=\"310\" y=\"-141.8\" font-family=\"Helvetica,sans-Serif\" font-size=\"14.00\" fill=\"#000000\">samples = 377</text>\n<text text-anchor=\"start\" x=\"300\" y=\"-126.8\" font-family=\"Helvetica,sans-Serif\" font-size=\"14.00\" fill=\"#000000\">value = [187, 434]</text>\n<text text-anchor=\"start\" x=\"329\" y=\"-111.8\" font-family=\"Helvetica,sans-Serif\" font-size=\"14.00\" fill=\"#000000\">class = u</text>\n</g>\n<!-- 0&#45;&gt;4 -->\n<g id=\"edge4\" class=\"edge\">\n<title>0&#45;&gt;4</title>\n<path fill=\"none\" stroke=\"#000000\" d=\"M304.6796,-222.8796C310.7615,-214.0534 317.2422,-204.6485 323.5141,-195.5466\"/>\n<polygon fill=\"#000000\" stroke=\"#000000\" points=\"326.4059,-197.5184 329.198,-187.2981 320.6418,-193.5465 326.4059,-197.5184\"/>\n<text text-anchor=\"middle\" x=\"333.7239\" y=\"-208.185\" font-family=\"Helvetica,sans-Serif\" font-size=\"14.00\" fill=\"#000000\">False</text>\n</g>\n<!-- 2 -->\n<g id=\"node3\" class=\"node\">\n<title>2</title>\n<path fill=\"#74baed\" stroke=\"#000000\" d=\"M104,-68C104,-68 12,-68 12,-68 6,-68 0,-62 0,-56 0,-56 0,-12 0,-12 0,-6 6,0 12,0 12,0 104,0 104,0 110,0 116,-6 116,-12 116,-12 116,-56 116,-56 116,-62 110,-68 104,-68\"/>\n<text text-anchor=\"start\" x=\"20\" y=\"-52.8\" font-family=\"Helvetica,sans-Serif\" font-size=\"14.00\" fill=\"#000000\">gini = 0.354</text>\n<text text-anchor=\"start\" x=\"14\" y=\"-37.8\" font-family=\"Helvetica,sans-Serif\" font-size=\"14.00\" fill=\"#000000\">samples = 58</text>\n<text text-anchor=\"start\" x=\"8\" y=\"-22.8\" font-family=\"Helvetica,sans-Serif\" font-size=\"14.00\" fill=\"#000000\">value = [20, 67]</text>\n<text text-anchor=\"start\" x=\"29\" y=\"-7.8\" font-family=\"Helvetica,sans-Serif\" font-size=\"14.00\" fill=\"#000000\">class = u</text>\n</g>\n<!-- 1&#45;&gt;2 -->\n<g id=\"edge2\" class=\"edge\">\n<title>1&#45;&gt;2</title>\n<path fill=\"none\" stroke=\"#000000\" d=\"M143.9863,-103.9815C132.242,-94.4232 119.7628,-84.2668 108.0595,-74.7419\"/>\n<polygon fill=\"#000000\" stroke=\"#000000\" points=\"110.065,-71.8614 100.0998,-68.2637 105.6464,-77.2906 110.065,-71.8614\"/>\n</g>\n<!-- 3 -->\n<g id=\"node4\" class=\"node\">\n<title>3</title>\n<path fill=\"#f1ba93\" stroke=\"#000000\" d=\"M254,-68C254,-68 146,-68 146,-68 140,-68 134,-62 134,-56 134,-56 134,-12 134,-12 134,-6 140,0 146,0 146,0 254,0 254,0 260,0 266,-6 266,-12 266,-12 266,-56 266,-56 266,-62 260,-68 254,-68\"/>\n<text text-anchor=\"start\" x=\"162\" y=\"-52.8\" font-family=\"Helvetica,sans-Serif\" font-size=\"14.00\" fill=\"#000000\">gini = 0.429</text>\n<text text-anchor=\"start\" x=\"152\" y=\"-37.8\" font-family=\"Helvetica,sans-Serif\" font-size=\"14.00\" fill=\"#000000\">samples = 354</text>\n<text text-anchor=\"start\" x=\"142\" y=\"-22.8\" font-family=\"Helvetica,sans-Serif\" font-size=\"14.00\" fill=\"#000000\">value = [393, 178]</text>\n<text text-anchor=\"start\" x=\"171\" y=\"-7.8\" font-family=\"Helvetica,sans-Serif\" font-size=\"14.00\" fill=\"#000000\">class = q</text>\n</g>\n<!-- 1&#45;&gt;3 -->\n<g id=\"edge3\" class=\"edge\">\n<title>1&#45;&gt;3</title>\n<path fill=\"none\" stroke=\"#000000\" d=\"M196.8618,-103.9815C197.2369,-95.618 197.6324,-86.7965 198.0116,-78.3409\"/>\n<polygon fill=\"#000000\" stroke=\"#000000\" points=\"201.5119,-78.4105 198.4635,-68.2637 194.519,-78.0968 201.5119,-78.4105\"/>\n</g>\n<!-- 5 -->\n<g id=\"node6\" class=\"node\">\n<title>5</title>\n<path fill=\"#f7d7c0\" stroke=\"#000000\" d=\"M404,-68C404,-68 304,-68 304,-68 298,-68 292,-62 292,-56 292,-56 292,-12 292,-12 292,-6 298,0 304,0 304,0 404,0 404,0 410,0 416,-6 416,-12 416,-12 416,-56 416,-56 416,-62 410,-68 404,-68\"/>\n<text text-anchor=\"start\" x=\"316\" y=\"-52.8\" font-family=\"Helvetica,sans-Serif\" font-size=\"14.00\" fill=\"#000000\">gini = 0.482</text>\n<text text-anchor=\"start\" x=\"306\" y=\"-37.8\" font-family=\"Helvetica,sans-Serif\" font-size=\"14.00\" fill=\"#000000\">samples = 113</text>\n<text text-anchor=\"start\" x=\"300\" y=\"-22.8\" font-family=\"Helvetica,sans-Serif\" font-size=\"14.00\" fill=\"#000000\">value = [107, 73]</text>\n<text text-anchor=\"start\" x=\"325\" y=\"-7.8\" font-family=\"Helvetica,sans-Serif\" font-size=\"14.00\" fill=\"#000000\">class = q</text>\n</g>\n<!-- 4&#45;&gt;5 -->\n<g id=\"edge5\" class=\"edge\">\n<title>4&#45;&gt;5</title>\n<path fill=\"none\" stroke=\"#000000\" d=\"M356.5105,-103.9815C356.2105,-95.618 355.894,-86.7965 355.5907,-78.3409\"/>\n<polygon fill=\"#000000\" stroke=\"#000000\" points=\"359.0855,-78.1317 355.2292,-68.2637 352.09,-78.3828 359.0855,-78.1317\"/>\n</g>\n<!-- 6 -->\n<g id=\"node7\" class=\"node\">\n<title>6</title>\n<path fill=\"#65b3eb\" stroke=\"#000000\" d=\"M546,-68C546,-68 446,-68 446,-68 440,-68 434,-62 434,-56 434,-56 434,-12 434,-12 434,-6 440,0 446,0 446,0 546,0 546,0 552,0 558,-6 558,-12 558,-12 558,-56 558,-56 558,-62 552,-68 546,-68\"/>\n<text text-anchor=\"start\" x=\"458\" y=\"-52.8\" font-family=\"Helvetica,sans-Serif\" font-size=\"14.00\" fill=\"#000000\">gini = 0.297</text>\n<text text-anchor=\"start\" x=\"448\" y=\"-37.8\" font-family=\"Helvetica,sans-Serif\" font-size=\"14.00\" fill=\"#000000\">samples = 264</text>\n<text text-anchor=\"start\" x=\"442\" y=\"-22.8\" font-family=\"Helvetica,sans-Serif\" font-size=\"14.00\" fill=\"#000000\">value = [80, 361]</text>\n<text text-anchor=\"start\" x=\"467\" y=\"-7.8\" font-family=\"Helvetica,sans-Serif\" font-size=\"14.00\" fill=\"#000000\">class = u</text>\n</g>\n<!-- 4&#45;&gt;6 -->\n<g id=\"edge6\" class=\"edge\">\n<title>4&#45;&gt;6</title>\n<path fill=\"none\" stroke=\"#000000\" d=\"M409.3861,-103.9815C421.2161,-94.4232 433.7864,-84.2668 445.5751,-74.7419\"/>\n<polygon fill=\"#000000\" stroke=\"#000000\" points=\"448.0142,-77.2708 453.5929,-68.2637 443.6149,-71.826 448.0142,-77.2708\"/>\n</g>\n</g>\n</svg>\n"
          },
          "metadata": {},
          "execution_count": 8
        }
      ]
    },
    {
      "cell_type": "code",
      "metadata": {
        "colab": {
          "base_uri": "https://localhost:8080/",
          "height": 282
        },
        "id": "_ByMX9sLz6Fg",
        "outputId": "937bf0fe-09e5-4d6f-c8a9-6660fd867439"
      },
      "source": [
        "import numpy as np\n",
        "import pandas as pd\n",
        "feat_importances = pd.Series(clf.feature_importances_, index=x.columns)\n",
        "feat_importances.nlargest(4).plot(kind='barh')"
      ],
      "execution_count": 9,
      "outputs": [
        {
          "output_type": "execute_result",
          "data": {
            "text/plain": [
              "<matplotlib.axes._subplots.AxesSubplot at 0x7fa38f445c90>"
            ]
          },
          "metadata": {},
          "execution_count": 9
        },
        {
          "output_type": "display_data",
          "data": {
            "image/png": "[encoded data removed]",
            "text/plain": [
              "<Figure size 432x288 with 1 Axes>"
            ]
          },
          "metadata": {
            "needs_background": "light"
          }
        }
      ]
    },
    {
      "cell_type": "markdown",
      "metadata": {
        "id": "qp5djIp_BiBF"
      },
      "source": [
        "# Store 2, 3, and 4 biggest Contributors"
      ]
    },
    {
      "cell_type": "code",
      "metadata": {
        "id": "0hEQJw803ZOf"
      },
      "source": [
        "two_var=feat_importances.nlargest(4).index[0:2]\n",
        "three_var=feat_importances.nlargest(4).index[0:3]\n",
        "four_var=feat_importances.nlargest(4).index[0:4]"
      ],
      "execution_count": 10,
      "outputs": []
    },
    {
      "cell_type": "markdown",
      "metadata": {
        "id": "ZtkYymZ7VEYv"
      },
      "source": [
        "# Preparation for Quantum Circuit"
      ]
    },
    {
      "cell_type": "code",
      "metadata": {
        "id": "nKp6YuV6RPC5"
      },
      "source": [
        "!pip install qiskit\n",
        "!pip install pylatexenc ipywidgets qutip"
      ],
      "execution_count": null,
      "outputs": []
    },
    {
      "cell_type": "code",
      "metadata": {
        "colab": {
          "base_uri": "https://localhost:8080/",
          "height": 204
        },
        "id": "ruAYHV1So3_3",
        "outputId": "04ea895b-c858-4aae-a863-607c3f2290ed"
      },
      "source": [
        "train=pd.concat([x_train, y_train], axis=1)\n",
        "train['int_quality']=list(map(lambda item: 1 if item=='good' else 0, train['quality']))\n",
        "test=pd.concat([x_test, y_test], axis=1)\n",
        "test['int_quality']=list(map(lambda item: 1 if item=='good' else 0, test['quality']))\n",
        "test.head()"
      ],
      "execution_count": 12,
      "outputs": [
        {
          "output_type": "execute_result",
          "data": {
            "text/html": [
              "<div>\n",
              "<style scoped>\n",
              "    .dataframe tbody tr th:only-of-type {\n",
              "        vertical-align: middle;\n",
              "    }\n",
              "\n",
              "    .dataframe tbody tr th {\n",
              "        vertical-align: top;\n",
              "    }\n",
              "\n",
              "    .dataframe thead th {\n",
              "        text-align: right;\n",
              "    }\n",
              "</style>\n",
              "<table border=\"1\" class=\"dataframe\">\n",
              "  <thead>\n",
              "    <tr style=\"text-align: right;\">\n",
              "      <th></th>\n",
              "      <th>fixed acidity</th>\n",
              "      <th>volatile acidity</th>\n",
              "      <th>citric acid</th>\n",
              "      <th>residual sugar</th>\n",
              "      <th>chlorides</th>\n",
              "      <th>free sulfur dioxide</th>\n",
              "      <th>total sulfur dioxide</th>\n",
              "      <th>density</th>\n",
              "      <th>pH</th>\n",
              "      <th>sulphates</th>\n",
              "      <th>alcohol</th>\n",
              "      <th>quality</th>\n",
              "      <th>int_quality</th>\n",
              "    </tr>\n",
              "  </thead>\n",
              "  <tbody>\n",
              "    <tr>\n",
              "      <th>803</th>\n",
              "      <td>7.7</td>\n",
              "      <td>0.56</td>\n",
              "      <td>0.08</td>\n",
              "      <td>2.50</td>\n",
              "      <td>0.114</td>\n",
              "      <td>14.0</td>\n",
              "      <td>46.0</td>\n",
              "      <td>0.9971</td>\n",
              "      <td>3.24</td>\n",
              "      <td>0.66</td>\n",
              "      <td>9.6</td>\n",
              "      <td>good</td>\n",
              "      <td>1</td>\n",
              "    </tr>\n",
              "    <tr>\n",
              "      <th>124</th>\n",
              "      <td>7.8</td>\n",
              "      <td>0.50</td>\n",
              "      <td>0.17</td>\n",
              "      <td>1.60</td>\n",
              "      <td>0.082</td>\n",
              "      <td>21.0</td>\n",
              "      <td>102.0</td>\n",
              "      <td>0.9960</td>\n",
              "      <td>3.39</td>\n",
              "      <td>0.48</td>\n",
              "      <td>9.5</td>\n",
              "      <td>bad</td>\n",
              "      <td>0</td>\n",
              "    </tr>\n",
              "    <tr>\n",
              "      <th>350</th>\n",
              "      <td>10.7</td>\n",
              "      <td>0.67</td>\n",
              "      <td>0.22</td>\n",
              "      <td>2.70</td>\n",
              "      <td>0.107</td>\n",
              "      <td>17.0</td>\n",
              "      <td>34.0</td>\n",
              "      <td>1.0004</td>\n",
              "      <td>3.28</td>\n",
              "      <td>0.98</td>\n",
              "      <td>9.9</td>\n",
              "      <td>good</td>\n",
              "      <td>1</td>\n",
              "    </tr>\n",
              "    <tr>\n",
              "      <th>682</th>\n",
              "      <td>8.5</td>\n",
              "      <td>0.46</td>\n",
              "      <td>0.31</td>\n",
              "      <td>2.25</td>\n",
              "      <td>0.078</td>\n",
              "      <td>32.0</td>\n",
              "      <td>58.0</td>\n",
              "      <td>0.9980</td>\n",
              "      <td>3.33</td>\n",
              "      <td>0.54</td>\n",
              "      <td>9.8</td>\n",
              "      <td>bad</td>\n",
              "      <td>0</td>\n",
              "    </tr>\n",
              "    <tr>\n",
              "      <th>1326</th>\n",
              "      <td>6.7</td>\n",
              "      <td>0.46</td>\n",
              "      <td>0.24</td>\n",
              "      <td>1.70</td>\n",
              "      <td>0.077</td>\n",
              "      <td>18.0</td>\n",
              "      <td>34.0</td>\n",
              "      <td>0.9948</td>\n",
              "      <td>3.39</td>\n",
              "      <td>0.60</td>\n",
              "      <td>10.6</td>\n",
              "      <td>good</td>\n",
              "      <td>1</td>\n",
              "    </tr>\n",
              "  </tbody>\n",
              "</table>\n",
              "</div>"
            ],
            "text/plain": [
              "      fixed acidity  volatile acidity  ...  quality  int_quality\n",
              "803             7.7              0.56  ...     good            1\n",
              "124             7.8              0.50  ...      bad            0\n",
              "350            10.7              0.67  ...     good            1\n",
              "682             8.5              0.46  ...      bad            0\n",
              "1326            6.7              0.46  ...     good            1\n",
              "\n",
              "[5 rows x 13 columns]"
            ]
          },
          "metadata": {},
          "execution_count": 12
        }
      ]
    },
    {
      "cell_type": "code",
      "metadata": {
        "colab": {
          "base_uri": "https://localhost:8080/",
          "height": 238
        },
        "id": "iYRJ7SIXUAFT",
        "outputId": "56ce4faa-9a75-45ab-ae29-8f9668004014"
      },
      "source": [
        "var_name=['al_hi', 'sul_hi','vol_ac_hi', 'sul_dio_hi']\n",
        "for obj, name in zip(four_var, var_name):\n",
        "  train[name]=list(map(lambda x: 1 if x>train[obj].mean() else 0, train[obj]))\n",
        "train.head()"
      ],
      "execution_count": 13,
      "outputs": [
        {
          "output_type": "execute_result",
          "data": {
            "text/html": [
              "<div>\n",
              "<style scoped>\n",
              "    .dataframe tbody tr th:only-of-type {\n",
              "        vertical-align: middle;\n",
              "    }\n",
              "\n",
              "    .dataframe tbody tr th {\n",
              "        vertical-align: top;\n",
              "    }\n",
              "\n",
              "    .dataframe thead th {\n",
              "        text-align: right;\n",
              "    }\n",
              "</style>\n",
              "<table border=\"1\" class=\"dataframe\">\n",
              "  <thead>\n",
              "    <tr style=\"text-align: right;\">\n",
              "      <th></th>\n",
              "      <th>fixed acidity</th>\n",
              "      <th>volatile acidity</th>\n",
              "      <th>citric acid</th>\n",
              "      <th>residual sugar</th>\n",
              "      <th>chlorides</th>\n",
              "      <th>free sulfur dioxide</th>\n",
              "      <th>total sulfur dioxide</th>\n",
              "      <th>density</th>\n",
              "      <th>pH</th>\n",
              "      <th>sulphates</th>\n",
              "      <th>alcohol</th>\n",
              "      <th>quality</th>\n",
              "      <th>int_quality</th>\n",
              "      <th>al_hi</th>\n",
              "      <th>sul_hi</th>\n",
              "      <th>vol_ac_hi</th>\n",
              "      <th>sul_dio_hi</th>\n",
              "    </tr>\n",
              "  </thead>\n",
              "  <tbody>\n",
              "    <tr>\n",
              "      <th>493</th>\n",
              "      <td>8.7</td>\n",
              "      <td>0.690</td>\n",
              "      <td>0.31</td>\n",
              "      <td>3.0</td>\n",
              "      <td>0.086</td>\n",
              "      <td>23.0</td>\n",
              "      <td>81.0</td>\n",
              "      <td>1.00020</td>\n",
              "      <td>3.48</td>\n",
              "      <td>0.74</td>\n",
              "      <td>11.6</td>\n",
              "      <td>good</td>\n",
              "      <td>1</td>\n",
              "      <td>1</td>\n",
              "      <td>1</td>\n",
              "      <td>1</td>\n",
              "      <td>1</td>\n",
              "    </tr>\n",
              "    <tr>\n",
              "      <th>354</th>\n",
              "      <td>6.1</td>\n",
              "      <td>0.210</td>\n",
              "      <td>0.40</td>\n",
              "      <td>1.4</td>\n",
              "      <td>0.066</td>\n",
              "      <td>40.5</td>\n",
              "      <td>165.0</td>\n",
              "      <td>0.99120</td>\n",
              "      <td>3.25</td>\n",
              "      <td>0.59</td>\n",
              "      <td>11.9</td>\n",
              "      <td>good</td>\n",
              "      <td>1</td>\n",
              "      <td>1</td>\n",
              "      <td>0</td>\n",
              "      <td>0</td>\n",
              "      <td>1</td>\n",
              "    </tr>\n",
              "    <tr>\n",
              "      <th>342</th>\n",
              "      <td>10.9</td>\n",
              "      <td>0.390</td>\n",
              "      <td>0.47</td>\n",
              "      <td>1.8</td>\n",
              "      <td>0.118</td>\n",
              "      <td>6.0</td>\n",
              "      <td>14.0</td>\n",
              "      <td>0.99820</td>\n",
              "      <td>3.30</td>\n",
              "      <td>0.75</td>\n",
              "      <td>9.8</td>\n",
              "      <td>good</td>\n",
              "      <td>1</td>\n",
              "      <td>0</td>\n",
              "      <td>1</td>\n",
              "      <td>0</td>\n",
              "      <td>0</td>\n",
              "    </tr>\n",
              "    <tr>\n",
              "      <th>834</th>\n",
              "      <td>8.8</td>\n",
              "      <td>0.685</td>\n",
              "      <td>0.26</td>\n",
              "      <td>1.6</td>\n",
              "      <td>0.088</td>\n",
              "      <td>16.0</td>\n",
              "      <td>23.0</td>\n",
              "      <td>0.99694</td>\n",
              "      <td>3.32</td>\n",
              "      <td>0.47</td>\n",
              "      <td>9.4</td>\n",
              "      <td>bad</td>\n",
              "      <td>0</td>\n",
              "      <td>0</td>\n",
              "      <td>0</td>\n",
              "      <td>1</td>\n",
              "      <td>0</td>\n",
              "    </tr>\n",
              "    <tr>\n",
              "      <th>705</th>\n",
              "      <td>8.4</td>\n",
              "      <td>1.035</td>\n",
              "      <td>0.15</td>\n",
              "      <td>6.0</td>\n",
              "      <td>0.073</td>\n",
              "      <td>11.0</td>\n",
              "      <td>54.0</td>\n",
              "      <td>0.99900</td>\n",
              "      <td>3.37</td>\n",
              "      <td>0.49</td>\n",
              "      <td>9.9</td>\n",
              "      <td>bad</td>\n",
              "      <td>0</td>\n",
              "      <td>0</td>\n",
              "      <td>0</td>\n",
              "      <td>1</td>\n",
              "      <td>1</td>\n",
              "    </tr>\n",
              "  </tbody>\n",
              "</table>\n",
              "</div>"
            ],
            "text/plain": [
              "     fixed acidity  volatile acidity  ...  vol_ac_hi  sul_dio_hi\n",
              "493            8.7             0.690  ...          1           1\n",
              "354            6.1             0.210  ...          0           1\n",
              "342           10.9             0.390  ...          0           0\n",
              "834            8.8             0.685  ...          1           0\n",
              "705            8.4             1.035  ...          1           1\n",
              "\n",
              "[5 rows x 17 columns]"
            ]
          },
          "metadata": {},
          "execution_count": 13
        }
      ]
    },
    {
      "cell_type": "code",
      "metadata": {
        "colab": {
          "base_uri": "https://localhost:8080/",
          "height": 238
        },
        "id": "bFSL0J-ep5ED",
        "outputId": "acf3a78f-776a-443a-a055-ac540c8512a4"
      },
      "source": [
        "var_name=['al_hi', 'sul_hi','vol_ac_hi', 'sul_dio_hi']\n",
        "for obj, name in zip(four_var, var_name):\n",
        "  test[name]=list(map(lambda x: 1 if x>test[obj].mean() else 0, test[obj]))\n",
        "test.head()"
      ],
      "execution_count": 14,
      "outputs": [
        {
          "output_type": "execute_result",
          "data": {
            "text/html": [
              "<div>\n",
              "<style scoped>\n",
              "    .dataframe tbody tr th:only-of-type {\n",
              "        vertical-align: middle;\n",
              "    }\n",
              "\n",
              "    .dataframe tbody tr th {\n",
              "        vertical-align: top;\n",
              "    }\n",
              "\n",
              "    .dataframe thead th {\n",
              "        text-align: right;\n",
              "    }\n",
              "</style>\n",
              "<table border=\"1\" class=\"dataframe\">\n",
              "  <thead>\n",
              "    <tr style=\"text-align: right;\">\n",
              "      <th></th>\n",
              "      <th>fixed acidity</th>\n",
              "      <th>volatile acidity</th>\n",
              "      <th>citric acid</th>\n",
              "      <th>residual sugar</th>\n",
              "      <th>chlorides</th>\n",
              "      <th>free sulfur dioxide</th>\n",
              "      <th>total sulfur dioxide</th>\n",
              "      <th>density</th>\n",
              "      <th>pH</th>\n",
              "      <th>sulphates</th>\n",
              "      <th>alcohol</th>\n",
              "      <th>quality</th>\n",
              "      <th>int_quality</th>\n",
              "      <th>al_hi</th>\n",
              "      <th>sul_hi</th>\n",
              "      <th>vol_ac_hi</th>\n",
              "      <th>sul_dio_hi</th>\n",
              "    </tr>\n",
              "  </thead>\n",
              "  <tbody>\n",
              "    <tr>\n",
              "      <th>803</th>\n",
              "      <td>7.7</td>\n",
              "      <td>0.56</td>\n",
              "      <td>0.08</td>\n",
              "      <td>2.50</td>\n",
              "      <td>0.114</td>\n",
              "      <td>14.0</td>\n",
              "      <td>46.0</td>\n",
              "      <td>0.9971</td>\n",
              "      <td>3.24</td>\n",
              "      <td>0.66</td>\n",
              "      <td>9.6</td>\n",
              "      <td>good</td>\n",
              "      <td>1</td>\n",
              "      <td>0</td>\n",
              "      <td>1</td>\n",
              "      <td>1</td>\n",
              "      <td>1</td>\n",
              "    </tr>\n",
              "    <tr>\n",
              "      <th>124</th>\n",
              "      <td>7.8</td>\n",
              "      <td>0.50</td>\n",
              "      <td>0.17</td>\n",
              "      <td>1.60</td>\n",
              "      <td>0.082</td>\n",
              "      <td>21.0</td>\n",
              "      <td>102.0</td>\n",
              "      <td>0.9960</td>\n",
              "      <td>3.39</td>\n",
              "      <td>0.48</td>\n",
              "      <td>9.5</td>\n",
              "      <td>bad</td>\n",
              "      <td>0</td>\n",
              "      <td>0</td>\n",
              "      <td>0</td>\n",
              "      <td>0</td>\n",
              "      <td>1</td>\n",
              "    </tr>\n",
              "    <tr>\n",
              "      <th>350</th>\n",
              "      <td>10.7</td>\n",
              "      <td>0.67</td>\n",
              "      <td>0.22</td>\n",
              "      <td>2.70</td>\n",
              "      <td>0.107</td>\n",
              "      <td>17.0</td>\n",
              "      <td>34.0</td>\n",
              "      <td>1.0004</td>\n",
              "      <td>3.28</td>\n",
              "      <td>0.98</td>\n",
              "      <td>9.9</td>\n",
              "      <td>good</td>\n",
              "      <td>1</td>\n",
              "      <td>0</td>\n",
              "      <td>1</td>\n",
              "      <td>1</td>\n",
              "      <td>0</td>\n",
              "    </tr>\n",
              "    <tr>\n",
              "      <th>682</th>\n",
              "      <td>8.5</td>\n",
              "      <td>0.46</td>\n",
              "      <td>0.31</td>\n",
              "      <td>2.25</td>\n",
              "      <td>0.078</td>\n",
              "      <td>32.0</td>\n",
              "      <td>58.0</td>\n",
              "      <td>0.9980</td>\n",
              "      <td>3.33</td>\n",
              "      <td>0.54</td>\n",
              "      <td>9.8</td>\n",
              "      <td>bad</td>\n",
              "      <td>0</td>\n",
              "      <td>0</td>\n",
              "      <td>0</td>\n",
              "      <td>0</td>\n",
              "      <td>1</td>\n",
              "    </tr>\n",
              "    <tr>\n",
              "      <th>1326</th>\n",
              "      <td>6.7</td>\n",
              "      <td>0.46</td>\n",
              "      <td>0.24</td>\n",
              "      <td>1.70</td>\n",
              "      <td>0.077</td>\n",
              "      <td>18.0</td>\n",
              "      <td>34.0</td>\n",
              "      <td>0.9948</td>\n",
              "      <td>3.39</td>\n",
              "      <td>0.60</td>\n",
              "      <td>10.6</td>\n",
              "      <td>good</td>\n",
              "      <td>1</td>\n",
              "      <td>1</td>\n",
              "      <td>0</td>\n",
              "      <td>0</td>\n",
              "      <td>0</td>\n",
              "    </tr>\n",
              "  </tbody>\n",
              "</table>\n",
              "</div>"
            ],
            "text/plain": [
              "      fixed acidity  volatile acidity  ...  vol_ac_hi  sul_dio_hi\n",
              "803             7.7              0.56  ...          1           1\n",
              "124             7.8              0.50  ...          0           1\n",
              "350            10.7              0.67  ...          1           0\n",
              "682             8.5              0.46  ...          0           1\n",
              "1326            6.7              0.46  ...          0           0\n",
              "\n",
              "[5 rows x 17 columns]"
            ]
          },
          "metadata": {},
          "execution_count": 14
        }
      ]
    },
    {
      "cell_type": "code",
      "metadata": {
        "colab": {
          "base_uri": "https://localhost:8080/"
        },
        "id": "PKB_mj-UUhG0",
        "outputId": "3a8f71c2-7077-4902-e005-17a9119d9491"
      },
      "source": [
        "#Probability of being high alcohol rate \n",
        "cnt_al_hi=len(train[train['al_hi']==1])\n",
        "cnt_al_lo=len(train[train['al_hi']!=1])\n",
        "prob_al_hi=cnt_al_hi/len(train)\n",
        "\n",
        "#Probability of being high sulphate rate \n",
        "cnt_sul_hi=len(train[train['sul_hi']==1])\n",
        "cnt_sul_lo=len(train[train['sul_hi']!=1])\n",
        "prob_sul_hi=cnt_sul_hi/len(train)\n",
        "\n",
        "#Probability of being good quality wine\n",
        "cnt_qual_hi=len(train[train['quality']==\"good\"])\n",
        "cnt_qual_lo=len(train[train['quality']!=\"good\"])\n",
        "prob_good=cnt_qual_hi/len(train)\n",
        "prob_sul_hi"
      ],
      "execution_count": 15,
      "outputs": [
        {
          "output_type": "execute_result",
          "data": {
            "text/plain": [
              "0.3737294761532447"
            ]
          },
          "metadata": {},
          "execution_count": 15
        }
      ]
    },
    {
      "cell_type": "code",
      "metadata": {
        "id": "fL-9rY163Pa3"
      },
      "source": [
        "#High Qual, High Al, High sul\n",
        "HA=train[train['al_hi']==1]\n",
        "HA_HS=HA[HA['sul_hi']==1]\n",
        "HQ_HA_HS=HA_HS[HA_HS['quality']==\"good\"]\n",
        "p_HQ_HA_HS=len(HQ_HA_HS)/len(HA_HS)\n",
        "LQ_HA_HS=HA_HS[HA_HS['quality']==\"bad\"]\n",
        "p_LQ_HA_HS=len(LQ_HA_HS)/len(HA_HS)\n",
        "\n",
        "#High Qual, High Al, Low sul\n",
        "HA=train[train['al_hi']==1]\n",
        "HA_LS=HA[HA['sul_hi']!=1]\n",
        "HQ_HA_LS=HA_LS[HA_LS['quality']==\"good\"]\n",
        "p_HQ_HA_LS=len(HQ_HA_LS)/len(HA_LS)\n",
        "LQ_HA_LS=HA_LS[HA_LS['quality']==\"bad\"]\n",
        "p_LQ_HA_LS=len(LQ_HA_LS)/len(HA_LS)\n",
        "\n",
        "\n",
        "#High Qual, Low Al, High sul\n",
        "LA=train[train['al_hi']!=1]\n",
        "LA_HS=LA[LA['sul_hi']==1]\n",
        "HQ_LA_HS=LA_HS[LA_HS['quality']==\"good\"]\n",
        "p_HQ_LA_HS=len(HQ_LA_HS)/len(LA_HS)\n",
        "LQ_LA_HS=LA_HS[LA_HS['quality']==\"bad\"]\n",
        "p_LQ_LA_HS=len(LQ_LA_HS)/len(LA_HS)\n",
        "\n",
        "#High Qual, Low Al, Low sul\n",
        "LA=train[train['al_hi']!=1]\n",
        "LA_LS=LA[LA['sul_hi']!=1]\n",
        "HQ_LA_LS=LA_LS[LA_LS['quality']==\"good\"]\n",
        "p_HQ_LA_LS=len(HQ_LA_LS)/len(LA_LS)\n",
        "LQ_LA_LS=LA_LS[LA_LS['quality']==\"bad\"]\n",
        "p_LQ_LA_LS=len(LQ_LA_LS)/len(LA_LS)"
      ],
      "execution_count": 16,
      "outputs": []
    },
    {
      "cell_type": "code",
      "metadata": {
        "colab": {
          "base_uri": "https://localhost:8080/",
          "height": 323
        },
        "id": "RayLJBvI_UWz",
        "outputId": "7d5004ec-5e5e-471f-9744-b40079978c41"
      },
      "source": [
        "from qiskit import QuantumCircuit, ClassicalRegister, QuantumRegister, Aer, execute, result\n",
        "from qiskit.visualization import plot_histogram\n",
        "import matplotlib.pyplot as plt\n",
        "from math import pi, sqrt, sin, cos, asin\n",
        "\n",
        "QPOS_AL=0\n",
        "QPOS_SUL=1\n",
        "QPOS_NORM=2\n",
        "QUBITS=3\n",
        "\n",
        "def prob_to_angle(prob):\n",
        "  return 2*asin(sqrt(prob))\n",
        "\n",
        "def ccry(qc, theta, control1, control2, controlled):\n",
        "  qc.cry(theta/2, control2, controlled)\n",
        "  qc.cx(control1, control2)\n",
        "  qc.cry(-theta/2, control2, controlled)\n",
        "  qc.cx(control1, control2)\n",
        "  qc.cry(theta/2, control1, controlled)\n",
        "\n",
        "qr=QuantumRegister(QUBITS)\n",
        "cr=ClassicalRegister(1)\n",
        "qc=QuantumCircuit(qr,cr)\n",
        "\n",
        "# Apply prob of high alcohol \n",
        "qc.ry(prob_to_angle(prob_al_hi),QPOS_AL)\n",
        "\n",
        "# Apply prob of high alcohol \n",
        "qc.ry(prob_to_angle(prob_sul_hi),QPOS_SUL)\n",
        "\n",
        "# |00> for cond prob of High Qual, Low Al & Low Sul\n",
        "qc.x(0)\n",
        "qc.x(1)\n",
        "ccry(qc, prob_to_angle(p_HQ_LA_LS), QPOS_AL, QPOS_SUL, QPOS_NORM)\n",
        "qc.x(1)\n",
        "qc.x(0)\n",
        "\n",
        "# |01> for cond prob of High Qual, Low Al & High Sul\n",
        "qc.x(0)\n",
        "ccry(qc, prob_to_angle(p_HQ_LA_HS), QPOS_AL, QPOS_SUL, QPOS_NORM)\n",
        "qc.x(0)\n",
        "\n",
        "# |10> for cond prob of High Qual, High Al & Low Sul\n",
        "qc.x(1)\n",
        "ccry(qc, prob_to_angle(p_HQ_HA_LS), QPOS_AL, QPOS_SUL, QPOS_NORM)\n",
        "qc.x(1)\n",
        "\n",
        "# |11> for cond prob of High Qual, High Al & High Sul\n",
        "\n",
        "ccry(qc, prob_to_angle(p_HQ_HA_HS), QPOS_AL, QPOS_SUL, QPOS_NORM)\n",
        "\n",
        "qc.measure(qr[QPOS_NORM], cr[0])\n",
        "results=execute(qc,Aer.get_backend('qasm_simulator'), shots=1000).result().get_counts()\n",
        "plot_histogram(results)\n"
      ],
      "execution_count": 17,
      "outputs": [
        {
          "output_type": "execute_result",
          "data": {
            "image/png": "[encoded data removed]",
            "text/plain": [
              "<Figure size 504x360 with 1 Axes>"
            ]
          },
          "metadata": {},
          "execution_count": 17
        }
      ]
    },
    {
      "cell_type": "code",
      "metadata": {
        "id": "sSQv8ESqLJBb"
      },
      "source": [
        "def as_pqc(cnt_quantum, with_qc, cnt_classical=1, shots=1, hist=False, measure=False):\n",
        "# Prepare the circuit with qubits and a classical bit to hold the measurement\n",
        "  qr = QuantumRegister(cnt_quantum)\n",
        "  cr = ClassicalRegister(cnt_classical)\n",
        "  qc = QuantumCircuit(qr, cr) if measure else QuantumCircuit(qr)\n",
        "\n",
        "  with_qc(qc, qr=qr, cr=cr)\n",
        "\n",
        "  results = execute(qc,\n",
        "  Aer.get_backend('statevector_simulator') if measure is False else Aer.get_backend('qasm_simulator'),\n",
        "  shots=shots).result().get_counts()\n",
        "  return plot_histogram(results, figsize=(12,4)) if hist else results"
      ],
      "execution_count": 18,
      "outputs": []
    },
    {
      "cell_type": "code",
      "metadata": {
        "id": "yAZf-vPPHK-c",
        "colab": {
          "base_uri": "https://localhost:8080/",
          "height": 293
        },
        "outputId": "38e17c88-e1a4-47e3-9ac0-b7b15a58b324"
      },
      "source": [
        "from qiskit import QuantumCircuit, ClassicalRegister, QuantumRegister, Aer, execute, result\n",
        "from qiskit.visualization import plot_histogram\n",
        "import matplotlib.pyplot as plt\n",
        "from math import pi, sqrt, sin, cos, asin\n",
        "\n",
        "QPOS_AL=0\n",
        "QPOS_SUL=1\n",
        "QPOS_NORM=2\n",
        "QPOS_QUAL=3\n",
        "QUBITS=4\n",
        "\n",
        "def prob_to_angle(prob):\n",
        "  return 2*asin(sqrt(prob))\n",
        "\n",
        "def ccry(qc, theta, control1, control2, controlled):\n",
        "  qc.cry(theta/2, control2, controlled)\n",
        "  qc.cx(control1, control2)\n",
        "  qc.cry(-theta/2, control2, controlled)\n",
        "  qc.cx(control1, control2)\n",
        "  qc.cry(theta/2, control1, controlled)\n",
        "\n",
        "def apply_al_sul(qc):\n",
        "  # Apply prob of high alcohol \n",
        "  qc.ry(prob_to_angle(prob_al_hi),QPOS_AL)\n",
        "\n",
        "  # Apply prob of high sulphide \n",
        "  qc.ry(prob_to_angle(prob_sul_hi),QPOS_SUL)\n",
        "\n",
        "\n",
        "def apply_norm(qc, norm_params):\n",
        "  # |100> for cond prob of Low Al & Low Sul, High Qual\n",
        "  qc.x(QPOS_AL)\n",
        "  qc.x(QPOS_SUL)\n",
        "  ccry(qc, prob_to_angle(norm_params['p_llh']), QPOS_AL, QPOS_SUL, QPOS_NORM)\n",
        "  qc.x(QPOS_SUL)\n",
        "  qc.x(QPOS_AL)\n",
        "\n",
        "  # |110> for cond prob of Low Al & High Sul, High Qual\n",
        "  qc.x(QPOS_AL)\n",
        "  ccry(qc, prob_to_angle(norm_params['p_lhh']), QPOS_AL, QPOS_SUL, QPOS_NORM)\n",
        "  qc.x(QPOS_AL)\n",
        "\n",
        "  # |101> for cond prob of High Al & Low Sul, High Qual\n",
        "  qc.x(QPOS_SUL)\n",
        "  ccry(qc, prob_to_angle(norm_params['p_hlh']), QPOS_AL, QPOS_SUL, QPOS_NORM)\n",
        "  qc.x(QPOS_SUL)\n",
        "\n",
        "  # |111> for cond prob of High Al & High Sul, High Qual\n",
        "  ccry(qc, prob_to_angle(norm_params['p_hhh']), QPOS_AL, QPOS_SUL, QPOS_NORM)\n",
        "\n",
        "\n",
        "def apply_qual(qc, qual_params):\n",
        "  qc.x(QPOS_NORM)\n",
        "  qc.cry(prob_to_angle(qual_params['p_qual_u']), QPOS_NORM, QPOS_QUAL)\n",
        "  qc.x(QPOS_NORM)\n",
        "\n",
        "  qc.cry(prob_to_angle(qual_params['p_qual_f']), QPOS_NORM, QPOS_QUAL)\n",
        "\n",
        "def qbn_wine(norm_params, qual_params, hist=True, measure=False, shots=1):\n",
        "  def circuit(qc, qr=None, cr=None):\n",
        "    apply_al_sul(qc)\n",
        "    apply_norm(qc, norm_params)\n",
        "    apply_qual(qc, qual_params)\n",
        "    qc.draw('mpl')\n",
        "  return as_pqc(QUBITS, circuit, hist=hist, measure=measure, shots=shots)\n",
        "\n",
        "norm_params={\n",
        "    'p_llh': 0.5,\n",
        "    'p_lhh': 0.3,\n",
        "    'p_hlh': 0.2,\n",
        "    'p_hhh': 0.4\n",
        "}\n",
        "\n",
        "qual_params={\n",
        "    'p_qual_f':0.6,\n",
        "    'p_qual_u':0.3\n",
        "}\n",
        "\n",
        "qbn_wine(norm_params, qual_params, hist=True, measure=False, shots=1)"
      ],
      "execution_count": 19,
      "outputs": [
        {
          "output_type": "execute_result",
          "data": {
            "image/png": "[encoded data removed]",
            "text/plain": [
              "<Figure size 864x288 with 1 Axes>"
            ]
          },
          "metadata": {},
          "execution_count": 19
        }
      ]
    },
    {
      "cell_type": "code",
      "metadata": {
        "id": "mHMtFinCMYjU"
      },
      "source": [
        "def calculate_norm_params(train):\n",
        "  #High Qual, High Al, High sul\n",
        "  HA=train[train['al_hi']==1]\n",
        "  HA_HS=HA[HA['sul_hi']==1]\n",
        "\n",
        "  #High Qual, High Al, Low sul\n",
        "  HA=train[train['al_hi']==1]\n",
        "  HA_LS=HA[HA['sul_hi']!=1]\n",
        "\n",
        "  #High Qual, Low Al, High sul\n",
        "  LA=train[train['al_hi']!=1]\n",
        "  LA_HS=LA[LA['sul_hi']==1]\n",
        "\n",
        "  #High Qual, Low Al, Low sul\n",
        "  LA=train[train['al_hi']!=1]\n",
        "  LA_LS=LA[LA['sul_hi']!=1]\n",
        "  \n",
        "  norm_params={\n",
        "      'p_hhh':HA_HS.Norm.sum()/len(HA_HS),\n",
        "      'p_hlh':HA_LS.Norm.sum()/len(HA_LS),\n",
        "      'p_lhh':LA_HS.Norm.sum()/len(LA_HS),\n",
        "      'p_llh':LA_LS.Norm.sum()/len(LA_LS)\n",
        "  }\n",
        "  return norm_params"
      ],
      "execution_count": 20,
      "outputs": []
    },
    {
      "cell_type": "code",
      "metadata": {
        "id": "Gwves2kwSHAk"
      },
      "source": [
        "def calculate_qual_params(data):\n",
        "  hi_quality=data[data['quality']=='good']\n",
        "  \n",
        "  def weight_qual(norm):\n",
        "    return lambda x: x if norm else 1-x\n",
        "\n",
        "  def calc_prob(norm):\n",
        "    return sum(list(map(weight_qual(norm), list(hi_quality['Norm']))))/sum(list(map(weight_qual(norm), list(data['Norm']))))\n",
        "\n",
        "  qual_params={\n",
        "    'p_qual_f':calc_prob(True),\n",
        "    'p_qual_u':calc_prob(False)\n",
        "  }\n",
        "\n",
        "  return qual_params"
      ],
      "execution_count": 21,
      "outputs": []
    },
    {
      "cell_type": "code",
      "metadata": {
        "colab": {
          "base_uri": "https://localhost:8080/",
          "height": 238
        },
        "id": "YV3krS7uBY_w",
        "outputId": "9d1d974e-a43d-4a61-e3b6-51fb379aea57"
      },
      "source": [
        "def prepare_data(data, params):\n",
        "  data['Norm']=list(map(\n",
        "      lambda item: params['p_norm_{}{}{}'.format(\n",
        "          'h' if item[0]==1 else 'l',\n",
        "          'h' if item[1]==1 else 'l',\n",
        "          'h' if item[2]=='good' else 'l'\n",
        "      )],\n",
        "      list(zip(data['al_hi'], data['sul_hi'], data['quality']))\n",
        "      ))\n",
        "  return data \n",
        "\n",
        "arbitrary_params={\n",
        "    'p_norm_hhh': p_HQ_HA_HS,\n",
        "    'p_norm_hlh': p_HQ_HA_LS,\n",
        "    'p_norm_lhh': p_HQ_LA_HS,\n",
        "    'p_norm_llh': p_HQ_LA_LS,\n",
        "    'p_norm_hhl': p_LQ_HA_HS,\n",
        "    'p_norm_hll': p_LQ_HA_LS,\n",
        "    'p_norm_lhl': p_LQ_LA_HS,\n",
        "    'p_norm_lll': p_LQ_LA_LS\n",
        "    }\n",
        "\n",
        "prepared_data=prepare_data(train,arbitrary_params)\n",
        "prepared_data.head()"
      ],
      "execution_count": 22,
      "outputs": [
        {
          "output_type": "execute_result",
          "data": {
            "text/html": [
              "<div>\n",
              "<style scoped>\n",
              "    .dataframe tbody tr th:only-of-type {\n",
              "        vertical-align: middle;\n",
              "    }\n",
              "\n",
              "    .dataframe tbody tr th {\n",
              "        vertical-align: top;\n",
              "    }\n",
              "\n",
              "    .dataframe thead th {\n",
              "        text-align: right;\n",
              "    }\n",
              "</style>\n",
              "<table border=\"1\" class=\"dataframe\">\n",
              "  <thead>\n",
              "    <tr style=\"text-align: right;\">\n",
              "      <th></th>\n",
              "      <th>fixed acidity</th>\n",
              "      <th>volatile acidity</th>\n",
              "      <th>citric acid</th>\n",
              "      <th>residual sugar</th>\n",
              "      <th>chlorides</th>\n",
              "      <th>free sulfur dioxide</th>\n",
              "      <th>total sulfur dioxide</th>\n",
              "      <th>density</th>\n",
              "      <th>pH</th>\n",
              "      <th>sulphates</th>\n",
              "      <th>alcohol</th>\n",
              "      <th>quality</th>\n",
              "      <th>int_quality</th>\n",
              "      <th>al_hi</th>\n",
              "      <th>sul_hi</th>\n",
              "      <th>vol_ac_hi</th>\n",
              "      <th>sul_dio_hi</th>\n",
              "      <th>Norm</th>\n",
              "    </tr>\n",
              "  </thead>\n",
              "  <tbody>\n",
              "    <tr>\n",
              "      <th>493</th>\n",
              "      <td>8.7</td>\n",
              "      <td>0.690</td>\n",
              "      <td>0.31</td>\n",
              "      <td>3.0</td>\n",
              "      <td>0.086</td>\n",
              "      <td>23.0</td>\n",
              "      <td>81.0</td>\n",
              "      <td>1.00020</td>\n",
              "      <td>3.48</td>\n",
              "      <td>0.74</td>\n",
              "      <td>11.6</td>\n",
              "      <td>good</td>\n",
              "      <td>1</td>\n",
              "      <td>1</td>\n",
              "      <td>1</td>\n",
              "      <td>1</td>\n",
              "      <td>1</td>\n",
              "      <td>0.838710</td>\n",
              "    </tr>\n",
              "    <tr>\n",
              "      <th>354</th>\n",
              "      <td>6.1</td>\n",
              "      <td>0.210</td>\n",
              "      <td>0.40</td>\n",
              "      <td>1.4</td>\n",
              "      <td>0.066</td>\n",
              "      <td>40.5</td>\n",
              "      <td>165.0</td>\n",
              "      <td>0.99120</td>\n",
              "      <td>3.25</td>\n",
              "      <td>0.59</td>\n",
              "      <td>11.9</td>\n",
              "      <td>good</td>\n",
              "      <td>1</td>\n",
              "      <td>1</td>\n",
              "      <td>0</td>\n",
              "      <td>0</td>\n",
              "      <td>1</td>\n",
              "      <td>0.666667</td>\n",
              "    </tr>\n",
              "    <tr>\n",
              "      <th>342</th>\n",
              "      <td>10.9</td>\n",
              "      <td>0.390</td>\n",
              "      <td>0.47</td>\n",
              "      <td>1.8</td>\n",
              "      <td>0.118</td>\n",
              "      <td>6.0</td>\n",
              "      <td>14.0</td>\n",
              "      <td>0.99820</td>\n",
              "      <td>3.30</td>\n",
              "      <td>0.75</td>\n",
              "      <td>9.8</td>\n",
              "      <td>good</td>\n",
              "      <td>1</td>\n",
              "      <td>0</td>\n",
              "      <td>1</td>\n",
              "      <td>0</td>\n",
              "      <td>0</td>\n",
              "      <td>0.537688</td>\n",
              "    </tr>\n",
              "    <tr>\n",
              "      <th>834</th>\n",
              "      <td>8.8</td>\n",
              "      <td>0.685</td>\n",
              "      <td>0.26</td>\n",
              "      <td>1.6</td>\n",
              "      <td>0.088</td>\n",
              "      <td>16.0</td>\n",
              "      <td>23.0</td>\n",
              "      <td>0.99694</td>\n",
              "      <td>3.32</td>\n",
              "      <td>0.47</td>\n",
              "      <td>9.4</td>\n",
              "      <td>bad</td>\n",
              "      <td>0</td>\n",
              "      <td>0</td>\n",
              "      <td>0</td>\n",
              "      <td>1</td>\n",
              "      <td>0</td>\n",
              "      <td>0.710227</td>\n",
              "    </tr>\n",
              "    <tr>\n",
              "      <th>705</th>\n",
              "      <td>8.4</td>\n",
              "      <td>1.035</td>\n",
              "      <td>0.15</td>\n",
              "      <td>6.0</td>\n",
              "      <td>0.073</td>\n",
              "      <td>11.0</td>\n",
              "      <td>54.0</td>\n",
              "      <td>0.99900</td>\n",
              "      <td>3.37</td>\n",
              "      <td>0.49</td>\n",
              "      <td>9.9</td>\n",
              "      <td>bad</td>\n",
              "      <td>0</td>\n",
              "      <td>0</td>\n",
              "      <td>0</td>\n",
              "      <td>1</td>\n",
              "      <td>1</td>\n",
              "      <td>0.710227</td>\n",
              "    </tr>\n",
              "  </tbody>\n",
              "</table>\n",
              "</div>"
            ],
            "text/plain": [
              "     fixed acidity  volatile acidity  ...  sul_dio_hi      Norm\n",
              "493            8.7             0.690  ...           1  0.838710\n",
              "354            6.1             0.210  ...           1  0.666667\n",
              "342           10.9             0.390  ...           0  0.537688\n",
              "834            8.8             0.685  ...           0  0.710227\n",
              "705            8.4             1.035  ...           1  0.710227\n",
              "\n",
              "[5 rows x 18 columns]"
            ]
          },
          "metadata": {},
          "execution_count": 22
        }
      ]
    },
    {
      "cell_type": "code",
      "metadata": {
        "id": "B1azpfUlP-cY"
      },
      "source": [
        "results=qbn_wine(calculate_norm_params(prepared_data), calculate_qual_params(train), hist=False, measure=False, shots=1)"
      ],
      "execution_count": 23,
      "outputs": []
    },
    {
      "cell_type": "code",
      "metadata": {
        "id": "vNQFADiwPyyi"
      },
      "source": [
        "def filter_states(states, position, value):\n",
        "  return list(filter(lambda item: item[0][QUBITS-1-position]==str(value), states))\n",
        "\n",
        "def sum_states(states):\n",
        "  return sum(map(lambda item: item[1], states))"
      ],
      "execution_count": 24,
      "outputs": []
    },
    {
      "cell_type": "code",
      "metadata": {
        "colab": {
          "base_uri": "https://localhost:8080/"
        },
        "id": "JPYDrWPLaShJ",
        "outputId": "471692a3-188d-4cf9-9b34-f1a99ac5915c"
      },
      "source": [
        "filter_states(results.items(), QPOS_AL, 1)"
      ],
      "execution_count": 25,
      "outputs": [
        {
          "output_type": "execute_result",
          "data": {
            "text/plain": [
              "[('0001', 0.060064517272767),\n",
              " ('0011', 0.021819553036571),\n",
              " ('0101', 0.067924680713379),\n",
              " ('0111', 0.053221868989647),\n",
              " ('1001', 0.060064517272766),\n",
              " ('1011', 0.021819553036571),\n",
              " ('1101', 0.082236612468538),\n",
              " ('1111', 0.064435874692169)]"
            ]
          },
          "metadata": {},
          "execution_count": 25
        }
      ]
    },
    {
      "cell_type": "code",
      "metadata": {
        "colab": {
          "base_uri": "https://localhost:8080/"
        },
        "id": "njWd3FukRBw_",
        "outputId": "484a037e-44ea-4597-a492-a5aa1c46f269"
      },
      "source": [
        "sum_states(filter_states(results.items(), QPOS_QUAL, '1'))"
      ],
      "execution_count": 26,
      "outputs": [
        {
          "output_type": "execute_result",
          "data": {
            "text/plain": [
              "0.5278351324555581"
            ]
          },
          "metadata": {},
          "execution_count": 26
        }
      ]
    },
    {
      "cell_type": "code",
      "metadata": {
        "colab": {
          "base_uri": "https://localhost:8080/"
        },
        "id": "gR2wEe170ISt",
        "outputId": "b3c2bb69-fbfd-48a4-fbc8-e857fc5dca19"
      },
      "source": [
        "from math import log\n",
        "\n",
        "def log_likelihood_wine(data, results):\n",
        "  states=results.items()\n",
        "\n",
        "  def calc_prob(norm_val, hi_al, hi_sul, hi_qual):\n",
        "    return sum_states(\n",
        "        filter_states(\n",
        "          filter_states(\n",
        "            filter_states(\n",
        "                filter_states(states, QPOS_AL, hi_al),\n",
        "                QPOS_SUL, hi_sul),\n",
        "                QPOS_QUAL, hi_qual),\n",
        "                QPOS_NORM, norm_val))\n",
        "  \n",
        "  probs={\n",
        "    'p_fhhh': calc_prob('1', '1','1','1'),\n",
        "    'p_fhlh': calc_prob('1', '1','0','1'),\n",
        "    'p_flhh': calc_prob('1', '0','1','1'),\n",
        "    'p_fllh': calc_prob('1', '0','0','1'),\n",
        "    'p_fhhl': calc_prob('1', '1','1','0'),\n",
        "    'p_fhll': calc_prob('1', '1','0','0'),\n",
        "    'p_flhl': calc_prob('1', '0','1','0'),\n",
        "    'p_flll': calc_prob('1', '0','0','0'),\n",
        "    'p_uhhh': calc_prob('0', '1','1','1'),\n",
        "    'p_uhlh': calc_prob('0', '1','0','1'),\n",
        "    'p_ulhh': calc_prob('0', '0','1','1'),\n",
        "    'p_ullh': calc_prob('0', '0','0','1'),\n",
        "    'p_uhhl': calc_prob('0', '1','1','0'),\n",
        "    'p_uhll': calc_prob('0', '1','0','0'),\n",
        "    'p_ulhl': calc_prob('0', '0','1','0'),\n",
        "    'p_ulll': calc_prob('0', '0','0','0')\n",
        "  }\n",
        "  return round(sum(map(\n",
        "      lambda item: log(probs['p_{}{}{}{}'.format(\n",
        "          'u',\n",
        "          'h' if item[1]==1 else 'l',\n",
        "          'h' if item[2]==1 else 'l',\n",
        "          'h' if item[3]==1 else 'l'\n",
        "          )] + probs['p_{}{}{}{}'.format(\n",
        "          'f',\n",
        "          'h' if item[1]==1 else 'l',\n",
        "          'h' if item[2]==1 else 'l',\n",
        "          'h' if item[3]==1 else 'l'\n",
        "          )]\n",
        "      ),\n",
        "      list(zip(data['Norm'], data['al_hi'], data['sul_hi'], data['quality']))\n",
        "  )),3)\n",
        "\n",
        "log_likelihood_wine(train, results)\n"
      ],
      "execution_count": 27,
      "outputs": [
        {
          "output_type": "execute_result",
          "data": {
            "text/plain": [
              "-2681.568"
            ]
          },
          "metadata": {},
          "execution_count": 27
        }
      ]
    },
    {
      "cell_type": "code",
      "metadata": {
        "id": "jv-sknZT0XPK"
      },
      "source": [
        "results=qbn_wine(calculate_norm_params(prepared_data), calculate_qual_params(train), hist=False, measure=False, shots=1)"
      ],
      "execution_count": 28,
      "outputs": []
    },
    {
      "cell_type": "code",
      "metadata": {
        "colab": {
          "base_uri": "https://localhost:8080/"
        },
        "id": "CIlsYtTI5LR1",
        "outputId": "c425c8ed-f3ad-4667-ede7-87ee615c85f9"
      },
      "source": [
        "def to_params(results):\n",
        "  states=results.items()\n",
        "\n",
        "  def calc_norm(hi_al, hi_sul, hi_qual):\n",
        "    pop=filter_states(filter_states(filter_states(states, QPOS_AL, hi_al),QPOS_SUL, hi_sul),QPOS_QUAL, hi_qual)\n",
        "    p_norm=sum(map(lambda item: item[1], filter_states(pop, QPOS_NORM, '1')))\n",
        "    p_total=sum(map(lambda item: item[1], pop))\n",
        "    return p_norm/p_total # new norm param based on if norm/al+sal+qual\n",
        "  \n",
        "  return{\n",
        "    'p_norm_hhh': calc_norm('1','1', '1'),\n",
        "    'p_norm_hlh': calc_norm('1','0', '1'),\n",
        "    'p_norm_lhh': calc_norm('0','1', '1'),\n",
        "    'p_norm_llh': calc_norm('0','0', '1'),\n",
        "    'p_norm_hhl': calc_norm('1','1', '0'),\n",
        "    'p_norm_hll': calc_norm('1','0', '0'),\n",
        "    'p_norm_lhl': calc_norm('0','1', '0'),\n",
        "    'p_norm_lll': calc_norm('0','0', '0')\n",
        "    }\n",
        "\n",
        "to_params(results)"
      ],
      "execution_count": 29,
      "outputs": [
        {
          "output_type": "execute_result",
          "data": {
            "text/plain": [
              "{'p_norm_hhh': 0.7470355940360052,\n",
              " 'p_norm_hhl': 0.7092332148376976,\n",
              " 'p_norm_hlh': 0.577905548733449,\n",
              " 'p_norm_hll': 0.5307063547716847,\n",
              " 'p_norm_lhh': 0.5255779674964096,\n",
              " 'p_norm_lhl': 0.4778146021956294,\n",
              " 'p_norm_llh': 0.6102482065249825,\n",
              " 'p_norm_lll': 0.5639366780222077}"
            ]
          },
          "metadata": {},
          "execution_count": 29
        }
      ]
    },
    {
      "cell_type": "code",
      "metadata": {
        "id": "z05GbeyM8Sg5"
      },
      "source": [
        "def train_qbn_wine(prepared_data, params, iterations, print=False):\n",
        "  if iterations>0:\n",
        "\n",
        "    new_params=train_qbn_wine(prepared_data, params, iterations-1)\n",
        "    prepared_data=prepare_data(prepared_data, new_params)\n",
        "    results=qbn_wine(calculate_norm_params(prepared_data),\n",
        "                     calculate_qual_params(prepared_data), hist=False)\n",
        "    if print:\n",
        "      print('The log−likelihood after {} iteration(s) is {}'.format(iterations, log_likelihood_wine(prepared_data, results)))\n",
        "    return to_params(results)\n",
        "  \n",
        "  return params"
      ],
      "execution_count": 30,
      "outputs": []
    },
    {
      "cell_type": "code",
      "metadata": {
        "id": "kX_xA6TlAgvc"
      },
      "source": [
        "def pre_process(prepared_data):\n",
        "  return (prepared_data['al_hi']==1, prepared_data['sul_hi']==1)"
      ],
      "execution_count": 31,
      "outputs": []
    },
    {
      "cell_type": "code",
      "metadata": {
        "id": "HcHEptCji3l8"
      },
      "source": [
        "def apply_known(qc, al_hi, sul_hi):\n",
        "  if al_hi:\n",
        "    qc.x(QPOS_AL)\n",
        "  if sul_hi:\n",
        "    qc.x(QPOS_SUL)"
      ],
      "execution_count": 32,
      "outputs": []
    },
    {
      "cell_type": "code",
      "metadata": {
        "id": "n2iTgScEYPid"
      },
      "source": [
        "def get_trained_qbn(data, params):\n",
        "  prepared_data=prepare_data(data, params)\n",
        "  norm_params=calculate_norm_params(data)\n",
        "  qual_params=calculate_qual_params(data)\n",
        "\n",
        "  def trained_qbn_wine(d):\n",
        "    (al_hi, sul_hi) = d\n",
        "\n",
        "    def circuit(qc, qr, cr):\n",
        "      apply_known(qc, al_hi, sul_hi)\n",
        "      apply_norm(qc, norm_params)\n",
        "      apply_qual(qc, qual_params)\n",
        "      qc.measure(qr[QPOS_QUAL], cr[0])\n",
        "    \n",
        "    return as_pqc(QUBITS, circuit, hist=False, measure=True, shots=100)\n",
        "  \n",
        "  return trained_qbn_wine"
      ],
      "execution_count": 33,
      "outputs": []
    },
    {
      "cell_type": "code",
      "metadata": {
        "id": "cWR6Z9OjaO5S"
      },
      "source": [
        "from sklearn.metrics import confusion_matrix, precision_score, recall_score\n",
        "def specificity(matrix):\n",
        "    return matrix[0][0]/(matrix[0][0]+matrix[0][1]) if (matrix[0][0]+matrix[0][1] > 0) else 0\n",
        "\n",
        "def npv(matrix):\n",
        "    return matrix[0][0]/(matrix[0][0]+matrix[1][0]) if (matrix[0][0]+matrix[1][0] > 0) else 0\n",
        "\n",
        "def accuracy(matrix):\n",
        "   return (matrix[0][0]+matrix[1][1])/(matrix[0][0]+matrix[0][1]+matrix[1][0]+matrix[1][1]) if (matrix[0][0]+matrix[0][1]+matrix[1][0]+matrix[1][1] > 0) else 0\n",
        "\n",
        "def classifier_report(name, run, classify, input, labels):\n",
        "    cr_predictions = run(classify, input)\n",
        "    cr_cm = confusion_matrix(labels, cr_predictions)\n",
        "    cr_precision = precision_score(labels, cr_predictions)\n",
        "    cr_recall = recall_score(labels, cr_predictions)\n",
        "    cr_specificity = specificity(cr_cm)\n",
        "    cr_npv = npv(cr_cm)\n",
        "    cr_level = 0.25*(cr_precision + cr_recall + cr_specificity + cr_npv)\n",
        "    accuracy_s=accuracy(cr_cm)\n",
        "\n",
        "    print('The precision score of the {} classifier is {:.2f}'\n",
        "        .format(name, cr_precision))\n",
        "    print('The recall score of the {} classifier is {:.2f}'\n",
        "        .format(name, cr_recall))\n",
        "    print('The specificity score of the {} classifier is {:.2f}'\n",
        "        .format(name, cr_specificity))\n",
        "    print('The npv score of the {} classifier is {:.2f}'\n",
        "        .format(name, cr_npv))\n",
        "    print('The information level is: {:.2f}'\n",
        "        .format(cr_level))\n",
        "    print('The accuracy of the model is: {:.2f}'\n",
        "        .format(accuracy_s))\n",
        "    print('')\n",
        "\n",
        "    return accuracy_s\n",
        "\n",
        "def run(f_classify, data):\n",
        "    return [f_classify(data.iloc[i]) for i in range(0,len(data))]\n",
        "\n",
        "def post_process(counts):\n",
        "  p_good=counts['1'] if '1' in counts.keys() else 0\n",
        "  p_bad=counts['0'] if '0' in counts.keys() else 0\n",
        "  return 1 if p_good>p_bad else 0"
      ],
      "execution_count": 34,
      "outputs": []
    },
    {
      "cell_type": "markdown",
      "metadata": {
        "id": "tdcsOUWCDC-R"
      },
      "source": [
        "# Predict"
      ]
    },
    {
      "cell_type": "code",
      "metadata": {
        "id": "NhD4Pt1jeL_3",
        "colab": {
          "base_uri": "https://localhost:8080/",
          "height": 1000
        },
        "outputId": "1b9bc5dc-da7d-4ae1-f2f5-c567db136529"
      },
      "source": [
        "def predict(train, test, arbitrary_params, iter):\n",
        "    trained_params=train_qbn_wine(train, arbitrary_params,iter)\n",
        "\n",
        "    trained_qbn=get_trained_qbn(train, trained_params)\n",
        "\n",
        "    return classifier_report(\"QBN\",\n",
        "                    run,\n",
        "                    lambda d : post_process(trained_qbn(pre_process(d))),\n",
        "                    test,\n",
        "                    test['int_quality']\n",
        "                    )\n",
        "\n",
        "def addlabels(x,y):\n",
        "    for i in range(len(x)):\n",
        "        plt.text(x[i],y[i],round(y[i],2))\n",
        "        \n",
        "iterations=[1,10,20,30,40]\n",
        "results_test=[]\n",
        "results_train=[]\n",
        "\n",
        "arbitrary_params={\n",
        "    'p_norm_hhh': p_HQ_HA_HS,\n",
        "    'p_norm_hlh': p_HQ_HA_LS,\n",
        "    'p_norm_lhh': p_HQ_LA_HS,\n",
        "    'p_norm_llh': p_HQ_LA_LS,\n",
        "    'p_norm_hhl': p_LQ_HA_HS,\n",
        "    'p_norm_hll': p_LQ_HA_LS,\n",
        "    'p_norm_lhl': p_LQ_LA_HS,\n",
        "    'p_norm_lll': p_LQ_LA_LS\n",
        "    }\n",
        "\n",
        "for i in iterations:\n",
        "   print(\"---Test data {} Iterations---\".format(i))\n",
        "   results_test.append(predict(train, test, arbitrary_params, i))\n",
        "   print(\"---Training data {} Iteration---\".format(i))\n",
        "   results_train.append(predict(train, train, arbitrary_params, i))\n",
        "\n",
        "plt.plot(iterations, results_test, label=\"Test\")\n",
        "addlabels(iterations, results_test)\n",
        "plt.plot(iterations, results_train, label=\"Train\")\n",
        "addlabels(iterations, results_train)\n",
        "plt.xlabel(\"Iteration\")\n",
        "plt.ylim(0,1)\n",
        "plt.legend()\n",
        "plt.suptitle('Accuracy',fontsize=10)\n",
        "plt.xticks(np.arange(0, 50,10))"
      ],
      "execution_count": 39,
      "outputs": [
        {
          "output_type": "stream",
          "name": "stdout",
          "text": [
            "---Test data 1 Iterations---\n",
            "The precision score of the QBN classifier is 0.56\n",
            "The recall score of the QBN classifier is 0.69\n",
            "The specificity score of the QBN classifier is 0.32\n",
            "The npv score of the QBN classifier is 0.45\n",
            "The information level is: 0.51\n",
            "The accuracy of the model is: 0.53\n",
            "\n",
            "---Training data 1 Iteration---\n",
            "The precision score of the QBN classifier is 0.54\n",
            "The recall score of the QBN classifier is 0.70\n",
            "The specificity score of the QBN classifier is 0.33\n",
            "The npv score of the QBN classifier is 0.50\n",
            "The information level is: 0.52\n",
            "The accuracy of the model is: 0.53\n",
            "\n",
            "---Test data 10 Iterations---\n",
            "The precision score of the QBN classifier is 0.73\n",
            "The recall score of the QBN classifier is 0.74\n",
            "The specificity score of the QBN classifier is 0.65\n",
            "The npv score of the QBN classifier is 0.66\n",
            "The information level is: 0.70\n",
            "The accuracy of the model is: 0.70\n",
            "\n",
            "---Training data 10 Iteration---\n",
            "The precision score of the QBN classifier is 0.71\n",
            "The recall score of the QBN classifier is 0.73\n",
            "The specificity score of the QBN classifier is 0.67\n",
            "The npv score of the QBN classifier is 0.69\n",
            "The information level is: 0.70\n",
            "The accuracy of the model is: 0.70\n",
            "\n",
            "---Test data 20 Iterations---\n",
            "The precision score of the QBN classifier is 0.75\n",
            "The recall score of the QBN classifier is 0.74\n",
            "The specificity score of the QBN classifier is 0.68\n",
            "The npv score of the QBN classifier is 0.67\n",
            "The information level is: 0.71\n",
            "The accuracy of the model is: 0.71\n",
            "\n",
            "---Training data 20 Iteration---\n",
            "The precision score of the QBN classifier is 0.71\n",
            "The recall score of the QBN classifier is 0.74\n",
            "The specificity score of the QBN classifier is 0.67\n",
            "The npv score of the QBN classifier is 0.70\n",
            "The information level is: 0.70\n",
            "The accuracy of the model is: 0.71\n",
            "\n",
            "---Test data 30 Iterations---\n",
            "The precision score of the QBN classifier is 0.73\n",
            "The recall score of the QBN classifier is 0.74\n",
            "The specificity score of the QBN classifier is 0.65\n",
            "The npv score of the QBN classifier is 0.67\n",
            "The information level is: 0.70\n",
            "The accuracy of the model is: 0.70\n",
            "\n",
            "---Training data 30 Iteration---\n",
            "The precision score of the QBN classifier is 0.71\n",
            "The recall score of the QBN classifier is 0.73\n",
            "The specificity score of the QBN classifier is 0.66\n",
            "The npv score of the QBN classifier is 0.69\n",
            "The information level is: 0.70\n",
            "The accuracy of the model is: 0.70\n",
            "\n",
            "---Test data 40 Iterations---\n",
            "The precision score of the QBN classifier is 0.72\n",
            "The recall score of the QBN classifier is 0.75\n",
            "The specificity score of the QBN classifier is 0.62\n",
            "The npv score of the QBN classifier is 0.67\n",
            "The information level is: 0.69\n",
            "The accuracy of the model is: 0.70\n",
            "\n",
            "---Training data 40 Iteration---\n",
            "The precision score of the QBN classifier is 0.70\n",
            "The recall score of the QBN classifier is 0.73\n",
            "The specificity score of the QBN classifier is 0.65\n",
            "The npv score of the QBN classifier is 0.69\n",
            "The information level is: 0.69\n",
            "The accuracy of the model is: 0.70\n",
            "\n"
          ]
        },
        {
          "output_type": "execute_result",
          "data": {
            "text/plain": [
              "([<matplotlib.axis.XTick at 0x7fa359161d90>,\n",
              "  <matplotlib.axis.XTick at 0x7fa361c79d90>,\n",
              "  <matplotlib.axis.XTick at 0x7fa3621939d0>,\n",
              "  <matplotlib.axis.XTick at 0x7fa3622d7dd0>,\n",
              "  <matplotlib.axis.XTick at 0x7fa36178e8d0>],\n",
              " <a list of 5 Text major ticklabel objects>)"
            ]
          },
          "metadata": {},
          "execution_count": 39
        },
        {
          "output_type": "display_data",
          "data": {
            "image/png": "[encoded data removed]",
            "text/plain": [
              "<Figure size 432x288 with 1 Axes>"
            ]
          },
          "metadata": {
            "needs_background": "light"
          }
        }
      ]
    }
  ]
}